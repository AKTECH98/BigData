{
 "cells": [
  {
   "cell_type": "code",
   "execution_count": 4,
   "metadata": {},
   "outputs": [],
   "source": [
    "import os\n",
    "# import psycopg2\n",
    "import pandas as pd\n",
    "# from sqlalchemy import create_engine\n",
    "\n",
    "# engine = create_engine('postgresql://localhost/eCommerce')\n",
    "\n",
    "# data_folder = \"eCommerce/\"\n",
    "\n",
    "# conn = psycopg2.connect(\n",
    "#     host=\"localhost\",\n",
    "#     database=\"eCommerce\",\n",
    "#     user=\"anshulkiyawat\",\n",
    "#     password=\"123456\"\n",
    "# )\n",
    "# cursor = conn.cursor()\n",
    "\n",
    "# for file in os.listdir(data_folder):\n",
    "\n",
    "#     table_name = file.split('.')[0].split('-')[1]\n",
    "#     print(table_name)\n",
    "#     # Create the table in the database\n",
    "#     cursor.execute(\"\"\"\n",
    "#         CREATE TABLE IF NOT EXISTS \"\"\" + table_name + \"\"\" (\n",
    "#             event_time TIMESTAMP,\n",
    "#             event_type VARCHAR(255),\n",
    "#             product_id INTEGER,\n",
    "#             category_id BIGINT,\n",
    "#             category_code VARCHAR(255),\n",
    "#             brand VARCHAR(255),\n",
    "#             price NUMERIC,\n",
    "#             user_id BIGINT,\n",
    "#             user_session VARCHAR(255)\n",
    "#         )\n",
    "#     \"\"\")\n",
    "\n",
    "# # Commit the changes and close the connection\n",
    "# conn.commit()\n",
    "# conn.close()\n",
    "\n",
    "df_temp = pd.read_csv(\"eCommerce/2019-Nov.csv\")\n",
    "\n",
    "# for file in os.listdir(data_folder):\n",
    "\n",
    "#     table_name = file.split('.')[0].split('-')[1]\n",
    "#     print(table_name)\n",
    "\n",
    "#     print(\"----------{}-----------\".format(file))\n",
    "\n",
    "#     print(\"Loading Data to Dataframe\")\n",
    "#     file_path = os.path.join(data_folder, file)\n",
    "#     df_temp = pd.read_csv(file_path)\n",
    "#     print(\"Data Loaded to DataFrame\")\n",
    "    \n",
    "#     print(df_temp.head())\n",
    "#     break\n",
    "\n",
    "#     print(\"Appending Data to Database\")\n",
    "#     df_temp.to_sql(table_name, engine, if_exists=\"append\", index=False)\n",
    "    \n",
    "#     print(\"{} Added to Database\".format(table_name))\n",
    "#     print(\"------------------------------------------\")\n",
    "#     print()"
   ]
  },
  {
   "cell_type": "code",
   "execution_count": 6,
   "metadata": {},
   "outputs": [
    {
     "name": "stdout",
     "output_type": "stream",
     "text": [
      "                event_time event_type  product_id          category_id  \\\n",
      "0  2019-11-01 00:00:00 UTC       view     1003461  2053013555631882655   \n",
      "1  2019-11-01 00:00:00 UTC       view     5000088  2053013566100866035   \n",
      "2  2019-11-01 00:00:01 UTC       view    17302664  2053013553853497655   \n",
      "3  2019-11-01 00:00:01 UTC       view     3601530  2053013563810775923   \n",
      "4  2019-11-01 00:00:01 UTC       view     1004775  2053013555631882655   \n",
      "\n",
      "               category_code   brand   price    user_id  \\\n",
      "0     electronics.smartphone  xiaomi  489.07  520088904   \n",
      "1  appliances.sewing_machine  janome  293.65  530496790   \n",
      "2                        NaN   creed   28.31  561587266   \n",
      "3  appliances.kitchen.washer      lg  712.87  518085591   \n",
      "4     electronics.smartphone  xiaomi  183.27  558856683   \n",
      "\n",
      "                           user_session  \n",
      "0  4d3b30da-a5e4-49df-b1a8-ba5943f1dd33  \n",
      "1  8e5f4f83-366c-4f70-860e-ca7417414283  \n",
      "2  755422e7-9040-477b-9bd2-6a6e8fd97387  \n",
      "3  3bfb58cd-7892-48cc-8020-2f17e6de6e7f  \n",
      "4  313628f1-68b8-460d-84f6-cec7a8796ef2  \n",
      "<class 'pandas.core.frame.DataFrame'>\n",
      "RangeIndex: 67501979 entries, 0 to 67501978\n",
      "Data columns (total 9 columns):\n",
      " #   Column         Dtype  \n",
      "---  ------         -----  \n",
      " 0   event_time     object \n",
      " 1   event_type     object \n",
      " 2   product_id     int64  \n",
      " 3   category_id    int64  \n",
      " 4   category_code  object \n",
      " 5   brand          object \n",
      " 6   price          float64\n",
      " 7   user_id        int64  \n",
      " 8   user_session   object \n",
      "dtypes: float64(1), int64(3), object(5)\n",
      "memory usage: 4.5+ GB\n",
      "None\n"
     ]
    }
   ],
   "source": [
    "print(df_temp.head())  \n",
    "print(df_temp.info())"
   ]
  },
  {
   "cell_type": "code",
   "execution_count": 8,
   "metadata": {},
   "outputs": [],
   "source": [
    "df_temp['eventTime'] = pd.to_datetime(df_temp['event_time'])"
   ]
  },
  {
   "cell_type": "code",
   "execution_count": 9,
   "metadata": {},
   "outputs": [
    {
     "name": "stdout",
     "output_type": "stream",
     "text": [
      "                event_time event_type  product_id          category_id  \\\n",
      "0  2019-11-01 00:00:00 UTC       view     1003461  2053013555631882655   \n",
      "1  2019-11-01 00:00:00 UTC       view     5000088  2053013566100866035   \n",
      "2  2019-11-01 00:00:01 UTC       view    17302664  2053013553853497655   \n",
      "3  2019-11-01 00:00:01 UTC       view     3601530  2053013563810775923   \n",
      "4  2019-11-01 00:00:01 UTC       view     1004775  2053013555631882655   \n",
      "\n",
      "               category_code   brand   price    user_id  \\\n",
      "0     electronics.smartphone  xiaomi  489.07  520088904   \n",
      "1  appliances.sewing_machine  janome  293.65  530496790   \n",
      "2                        NaN   creed   28.31  561587266   \n",
      "3  appliances.kitchen.washer      lg  712.87  518085591   \n",
      "4     electronics.smartphone  xiaomi  183.27  558856683   \n",
      "\n",
      "                           user_session                 eventTime  \n",
      "0  4d3b30da-a5e4-49df-b1a8-ba5943f1dd33 2019-11-01 00:00:00+00:00  \n",
      "1  8e5f4f83-366c-4f70-860e-ca7417414283 2019-11-01 00:00:00+00:00  \n",
      "2  755422e7-9040-477b-9bd2-6a6e8fd97387 2019-11-01 00:00:01+00:00  \n",
      "3  3bfb58cd-7892-48cc-8020-2f17e6de6e7f 2019-11-01 00:00:01+00:00  \n",
      "4  313628f1-68b8-460d-84f6-cec7a8796ef2 2019-11-01 00:00:01+00:00  \n"
     ]
    }
   ],
   "source": [
    "print(df_temp.head())  "
   ]
  },
  {
   "cell_type": "code",
   "execution_count": 10,
   "metadata": {},
   "outputs": [
    {
     "ename": "",
     "evalue": "",
     "output_type": "error",
     "traceback": [
      "\u001b[1;31mThe Kernel crashed while executing code in the current cell or a previous cell. \n",
      "\u001b[1;31mPlease review the code in the cell(s) to identify a possible cause of the failure. \n",
      "\u001b[1;31mClick <a href='https://aka.ms/vscodeJupyterKernelCrash'>here</a> for more info. \n",
      "\u001b[1;31mView Jupyter <a href='command:jupyter.viewOutput'>log</a> for further details."
     ]
    }
   ],
   "source": [
    "from sqlalchemy import create_engine\n",
    "engine = create_engine('postgresql://localhost/eCommerce')\n",
    "\n",
    "df_temp.to_sql('oct', engine, if_exists=\"replace\", index=False)"
   ]
  },
  {
   "cell_type": "code",
   "execution_count": null,
   "metadata": {},
   "outputs": [],
   "source": []
  }
 ],
 "metadata": {
  "kernelspec": {
   "display_name": ".venv",
   "language": "python",
   "name": "python3"
  },
  "language_info": {
   "codemirror_mode": {
    "name": "ipython",
    "version": 3
   },
   "file_extension": ".py",
   "mimetype": "text/x-python",
   "name": "python",
   "nbconvert_exporter": "python",
   "pygments_lexer": "ipython3",
   "version": "3.11.0"
  }
 },
 "nbformat": 4,
 "nbformat_minor": 2
}
